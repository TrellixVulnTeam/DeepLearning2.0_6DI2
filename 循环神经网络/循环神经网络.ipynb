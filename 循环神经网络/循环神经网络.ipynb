{
 "cells": [
  {
   "cell_type": "markdown",
   "id": "d2267448-2c6d-4ff2-9512-94fe1240d751",
   "metadata": {
    "tags": []
   },
   "source": [
    "# 循环神经网络\n",
    "利用因变量自回归模型"
   ]
  },
  {
   "cell_type": "markdown",
   "id": "5425f423-eb48-497b-8227-3d689dd85063",
   "metadata": {},
   "source": [
    "import torch\n",
    "import torch.nn\n",
    "import "
   ]
  }
 ],
 "metadata": {
  "kernelspec": {
   "display_name": "Python 3 (ipykernel)",
   "language": "python",
   "name": "python3"
  },
  "language_info": {
   "codemirror_mode": {
    "name": "ipython",
    "version": 3
   },
   "file_extension": ".py",
   "mimetype": "text/x-python",
   "name": "python",
   "nbconvert_exporter": "python",
   "pygments_lexer": "ipython3",
   "version": "3.8.13"
  }
 },
 "nbformat": 4,
 "nbformat_minor": 5
}
