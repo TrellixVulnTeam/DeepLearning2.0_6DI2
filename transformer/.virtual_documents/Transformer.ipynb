import torch
from d2l import torch as d2l
import matplotlib.pyplot as plt
from IPython import display


# 注意力的可视化
def show_heatmaps(matrices, xlabel, ylabel, titles=None, figsize=(2.5,3.5),
                  cmap='Reds'):
    """显示矩阵热图"""
    num_rows, num_cols = matrices.shape[0], matrices.shape[1]
    fig, axes = plt.subplots(num_rows, num_cols, figsize=figsize,
                             sharex=True, sharey=True, squeeze=False)
    for i,(row_axes, row_matrices) in enumerate(zip(axes, matrices)):
        for j, (ax,matrix) in enumerate(zip(row_axes, row_matrices)):
            pcm = ax.imshow(matrix.detach().numpy(),cmap=cmap)
            if i == num_rows - 1:
                ax.set_xlabel(xlabel)
            if j == 0:
                ax.set_ylabel(ylabel)
            if titles:
                ax.set_title(titles[j])
    fig.colorbar(pcm, ax=axes, shrink=0.6)


attention_weights = torch.eye(10).reshape((1, 1, 10, 10))
show_heatmaps(attention_weights, xlabel='Keys', ylabel='Queries')


import torch
from torch import nn
from d2l import torch as d2l


n_train = 50 # 训练样本
x_train, _ = torch.sort(torch.rand(n_train) * 5)    # 排序后的训练样本


def f(x):
    return 2 * torch.sin(x) + x**0.8

y_train = f(x_train) + torch.normal(0.0, 0.5,(n_train,))   # 训练样本的输出
x_test = torch.arange(0, 5, 0.1)  # 测试样本
y_truth = f(x_test)    # 测试样本的真实输出
n_test = len(x_test)   # 测试样本数


def plot_kernel_reg(y_hat):
    plt.plot(x_test, y_truth,label = 'Truth')
    plt.plot(x_test,y_hat, label = 'Pred')
    plt.xlim=[0, 5]
    plt.ylim = [-1,5]
    plt.scatter(x_train, y_train,c='red',alpha=0.5)
    plt.grid(True)
    plt.legend()


y_hat = torch.repeat_interleave(y_train.mean(), n_test)     # 将y_train.mean重复n_test遍
plot_kernel_reg(y_hat)


# X_repeat的形状：（n_test,n_train）
# 每一行都包含着相同的测试输入（例如：同样的查询）
X_repeat = x_test.repeat_interleave(n_train).reshape((-1,n_train))
# X_train包含着键。attention_weights的形状：（n_test,n_train）,
# 每一行都包含着要在给定的每个查询的值（y_train）之间分配的注意力权重
attention_weights = nn.functional.softmax(-(X_repeat-x_train) ** 2 / 2,dim=1)
# y_hat的每个元素都是值的加权平均值，其中的权重是注意力权重
y_hat = torch.matmul(attention_weights, y_train)
plot_kernel_reg(y_hat)


show_heatmaps(attention_weights.unsqueeze(0).unsqueeze(0),
              xlabel='Sorted training inputs',
              ylabel='Sorted testing inputs')


import torch



